{
  "nbformat": 4,
  "nbformat_minor": 0,
  "metadata": {
    "colab": {
      "name": "Introduction.ipynb",
      "provenance": [],
      "collapsed_sections": [],
      "authorship_tag": "ABX9TyOTpqXQR7gfiGfB08VI8o05",
      "include_colab_link": true
    },
    "kernelspec": {
      "name": "python3",
      "display_name": "Python 3"
    },
    "language_info": {
      "name": "python"
    }
  },
  "cells": [
    {
      "cell_type": "markdown",
      "metadata": {
        "id": "view-in-github",
        "colab_type": "text"
      },
      "source": [
        "<a href=\"https://colab.research.google.com/github/mr-nishanth/Besant-Technologies-Python-Batch-54/blob/master/Introduction.ipynb\" target=\"_parent\"><img src=\"https://colab.research.google.com/assets/colab-badge.svg\" alt=\"Open In Colab\"/></a>"
      ]
    },
    {
      "cell_type": "markdown",
      "source": [
        "**ipynb means Interactive PYthon NoteBook**"
      ],
      "metadata": {
        "id": "6_IVCYNIAXt0"
      }
    },
    {
      "cell_type": "code",
      "execution_count": 1,
      "metadata": {
        "colab": {
          "base_uri": "https://localhost:8080/"
        },
        "id": "QmF3wq5V8Y4A",
        "outputId": "f885c63e-613d-4cba-c069-e5bde8e54b6d"
      },
      "outputs": [
        {
          "output_type": "stream",
          "name": "stdout",
          "text": [
            "16\n"
          ]
        }
      ],
      "source": [
        "# procedural programming language\n",
        "\n",
        "# step by step  \n",
        "\n",
        "a = 6\n",
        "b = 10\n",
        "c = a + b\n",
        "print(c)"
      ]
    },
    {
      "cell_type": "markdown",
      "source": [
        "\n",
        "\n",
        "---\n",
        "\n"
      ],
      "metadata": {
        "id": "uhV29xNz-adA"
      }
    },
    {
      "cell_type": "code",
      "source": [
        "# functional programming language\n",
        "\n",
        "# Function define\n",
        "def add(a,b):\n",
        "    return a + b\n",
        "\n",
        "# Function call\n",
        "print(add(10,15))"
      ],
      "metadata": {
        "colab": {
          "base_uri": "https://localhost:8080/"
        },
        "id": "SUfHfZVf8yY0",
        "outputId": "6e9efc15-3906-4b79-8297-3aec6846f60e"
      },
      "execution_count": 2,
      "outputs": [
        {
          "output_type": "stream",
          "name": "stdout",
          "text": [
            "25\n"
          ]
        }
      ]
    },
    {
      "cell_type": "code",
      "source": [
        "def greet():\n",
        "  print(\"Good Morning\")\n",
        "\n",
        "greet()"
      ],
      "metadata": {
        "colab": {
          "base_uri": "https://localhost:8080/"
        },
        "id": "TLmvViM_9psZ",
        "outputId": "68de783c-db82-4089-fd7e-5201722d6fcc"
      },
      "execution_count": 4,
      "outputs": [
        {
          "output_type": "stream",
          "name": "stdout",
          "text": [
            "Good Morning\n"
          ]
        }
      ]
    },
    {
      "cell_type": "markdown",
      "source": [
        "---"
      ],
      "metadata": {
        "id": "JSeL-qqy-eKG"
      }
    },
    {
      "cell_type": "code",
      "source": [
        "# TODO\n",
        "# Modular programming ? "
      ],
      "metadata": {
        "id": "YaKVnW4s-Lh_"
      },
      "execution_count": null,
      "outputs": []
    },
    {
      "cell_type": "markdown",
      "source": [
        "---"
      ],
      "metadata": {
        "id": "_gbt1cv--1s3"
      }
    },
    {
      "cell_type": "code",
      "source": [
        "# OOPS Oriented Programming System\n",
        "\n",
        "class Apple:\n",
        "  appleColor = \"Red\"\n",
        "\n",
        "# Access the class property\n",
        "\n",
        "a1 = Apple() # object Create\n",
        "print(a1.appleColor)\n",
        "\n",
        "# Access via class name dot property\n",
        "print(Apple.appleColor)\n"
      ],
      "metadata": {
        "colab": {
          "base_uri": "https://localhost:8080/"
        },
        "id": "RBFO2xso-3E1",
        "outputId": "2313f762-7c3f-4f40-a194-b7b6c9f4b286"
      },
      "execution_count": 9,
      "outputs": [
        {
          "output_type": "stream",
          "name": "stdout",
          "text": [
            "Red\n",
            "Red\n"
          ]
        }
      ]
    },
    {
      "cell_type": "markdown",
      "source": [
        "\n",
        "\n",
        "---\n",
        "\n"
      ],
      "metadata": {
        "id": "4QLQtTPRADQZ"
      }
    },
    {
      "cell_type": "code",
      "source": [
        ""
      ],
      "metadata": {
        "id": "cCmO3B-KANsI"
      },
      "execution_count": null,
      "outputs": []
    }
  ]
}